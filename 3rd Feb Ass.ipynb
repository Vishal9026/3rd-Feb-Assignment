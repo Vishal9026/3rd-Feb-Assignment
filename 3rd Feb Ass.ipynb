{
 "cells": [
  {
   "cell_type": "code",
   "execution_count": 18,
   "id": "26191593-2d79-43c4-bb88-3d05b31e4c39",
   "metadata": {},
   "outputs": [
    {
     "data": {
      "text/plain": [
       "[1, 3, 5, 7, 9, 11, 13, 15, 17, 19, 21, 23]"
      ]
     },
     "execution_count": 18,
     "metadata": {},
     "output_type": "execute_result"
    }
   ],
   "source": [
    "# ANSWER-1) The def keyword is used to create, (or define) a function\n",
    "def odd_list():\n",
    "    l1 = []\n",
    "    for i in range(1,25) :\n",
    "        if i%2 != 0 :\n",
    "            l1.append(i)\n",
    "    return l1\n",
    "odd_list()\n",
    "            \n",
    "        "
   ]
  },
  {
   "cell_type": "code",
   "execution_count": 16,
   "id": "6334bff4-90e2-4048-ae90-a9364b2b617c",
   "metadata": {},
   "outputs": [
    {
     "data": {
      "text/plain": [
       "(1, 2, 3, 4, 5)"
      ]
     },
     "execution_count": 16,
     "metadata": {},
     "output_type": "execute_result"
    }
   ],
   "source": [
    "# ANSWER-2)\n",
    "def test1(*args) :\n",
    "    return args\n",
    "test1(1,2,3,4,5)\n"
   ]
  },
  {
   "cell_type": "code",
   "execution_count": 17,
   "id": "e168ee80-68fe-46ff-a5e9-eb83bb292760",
   "metadata": {},
   "outputs": [
    {
     "data": {
      "text/plain": [
       "{'name': 'vishal', 'sub': 'data science'}"
      ]
     },
     "execution_count": 17,
     "metadata": {},
     "output_type": "execute_result"
    }
   ],
   "source": [
    "# ANSWER-2)\n",
    "def test2(**kwargs) :\n",
    "    return kwargs\n",
    "test2(name='vishal',sub ='data science')\n"
   ]
  },
  {
   "cell_type": "code",
   "execution_count": 3,
   "id": "6bae7cb9-7abc-4aa3-8e18-46e6d262bbf0",
   "metadata": {},
   "outputs": [
    {
     "name": "stdout",
     "output_type": "stream",
     "text": [
      "2\n",
      "4\n",
      "6\n",
      "8\n",
      "10\n"
     ]
    }
   ],
   "source": [
    "# ANSWER-3)An iterator is an object that contains a countable number of values. An iterator is an object that can be iterated upon, meaning that you can traverse through all the values. Technically, in Python, an iterator is an object which implements the iterator protocol, which consist of the methods __iter__() and __next__() .\n",
    "l = [2,4,6,8,10,12,14,16,18,20]\n",
    "it = iter(l)\n",
    "for i in range(5):\n",
    "    print(next(it))"
   ]
  },
  {
   "cell_type": "code",
   "execution_count": 15,
   "id": "95ac8ad2-5ea6-4f4e-a2cf-12c61112bd54",
   "metadata": {},
   "outputs": [
    {
     "name": "stdout",
     "output_type": "stream",
     "text": [
      "0\n",
      "1\n",
      "1\n",
      "2\n",
      "3\n",
      "5\n",
      "8\n",
      "13\n",
      "21\n",
      "34\n"
     ]
    }
   ],
   "source": [
    "# ANSWER-4) A Python generator function allows you to declare a function that behaves like an iterator, providing a faster and easier way to create iterators. They can be used on an abstract container of data to turn it into an iterable object like lists, dictionaries and strings.\n",
    "def test_fib(n):\n",
    "    a,b = 0,1\n",
    "    for i in range(n):\n",
    "        yield a #help for generate generator funtion\n",
    "        a,b = b, a+b\n",
    "for i in test_fib(10):\n",
    "    print(i)        "
   ]
  },
  {
   "cell_type": "code",
   "execution_count": 1,
   "id": "706b07ea-9af0-441d-beb0-447b85b6453a",
   "metadata": {},
   "outputs": [],
   "source": [
    "# ANSWER-5)\n",
    "def prime_numbers():\n",
    "    \"\"\"\n",
    "    Generator function that yields prime numbers less than 1000.\n",
    "    \"\"\"\n",
    "    # 2 is the first prime number\n",
    "    yield 2\n",
    "    # Check odd numbers up to 1000\n",
    "    for num in range(3, 1000, 2):\n",
    "        # Check if num is prime\n",
    "        for divisor in range(3, int(num**0.5) + 1, 2):\n",
    "            if num % divisor == 0:\n",
    "                break\n",
    "        else:\n",
    "            yield num"
   ]
  },
  {
   "cell_type": "code",
   "execution_count": 2,
   "id": "47d14910-1fe1-491a-8512-bd3eae2e849c",
   "metadata": {},
   "outputs": [
    {
     "name": "stdout",
     "output_type": "stream",
     "text": [
      "2\n",
      "3\n",
      "5\n",
      "7\n",
      "11\n",
      "13\n",
      "17\n",
      "19\n",
      "23\n",
      "29\n",
      "31\n",
      "37\n",
      "41\n",
      "43\n",
      "47\n",
      "53\n",
      "59\n",
      "61\n",
      "67\n",
      "71\n"
     ]
    }
   ],
   "source": [
    "primes = prime_numbers()\n",
    "for i in range(20):\n",
    "    print(next(primes))"
   ]
  },
  {
   "cell_type": "code",
   "execution_count": 20,
   "id": "9c360ef8-f8fe-4cb3-991b-c0edfec018c8",
   "metadata": {},
   "outputs": [
    {
     "name": "stdout",
     "output_type": "stream",
     "text": [
      "0\n",
      "1\n",
      "1\n",
      "2\n",
      "3\n",
      "5\n",
      "8\n",
      "13\n",
      "21\n",
      "34\n"
     ]
    }
   ],
   "source": [
    "# ANSWER-6)\n",
    "a = 0\n",
    "b = 1\n",
    "counter = 0\n",
    "while counter <10:\n",
    "    print(a)\n",
    "    c = a + b\n",
    "    a = b\n",
    "    b = c\n",
    "    counter = counter + 1"
   ]
  },
  {
   "cell_type": "code",
   "execution_count": 22,
   "id": "f4a9894f-73ca-4b1a-9bf2-071ede095eb7",
   "metadata": {},
   "outputs": [
    {
     "data": {
      "text/plain": [
       "['p', 'w', 's', 'k', 'i', 'l', 'l', 's']"
      ]
     },
     "execution_count": 22,
     "metadata": {},
     "output_type": "execute_result"
    }
   ],
   "source": [
    "# ANSWER-7)\n",
    "string = 'pwskills'\n",
    "[i for i in string]"
   ]
  },
  {
   "cell_type": "code",
   "execution_count": 33,
   "id": "f21d862f-a297-4297-b888-93778e388562",
   "metadata": {},
   "outputs": [
    {
     "name": "stdin",
     "output_type": "stream",
     "text": [
      "enter your input : 525\n"
     ]
    },
    {
     "name": "stdout",
     "output_type": "stream",
     "text": [
      "Palindrome Number\n"
     ]
    }
   ],
   "source": [
    "# ANSWER-8)\n",
    "i = int(input('enter your input :'))\n",
    "rev = 0\n",
    "x = i \n",
    "while (i > 0) :\n",
    "    rev = ((rev*10)+i%10)\n",
    "    i = i//10\n",
    "if (x == rev):\n",
    "    print('Palindrome Number')\n",
    "else :\n",
    "    print('Not Palindrome')"
   ]
  },
  {
   "cell_type": "code",
   "execution_count": 28,
   "id": "b84d467e-e514-4778-9e32-2299f766e485",
   "metadata": {},
   "outputs": [
    {
     "data": {
      "text/plain": [
       "[1,\n",
       " 3,\n",
       " 5,\n",
       " 7,\n",
       " 9,\n",
       " 11,\n",
       " 13,\n",
       " 15,\n",
       " 17,\n",
       " 19,\n",
       " 21,\n",
       " 23,\n",
       " 25,\n",
       " 27,\n",
       " 29,\n",
       " 31,\n",
       " 33,\n",
       " 35,\n",
       " 37,\n",
       " 39,\n",
       " 41,\n",
       " 43,\n",
       " 45,\n",
       " 47,\n",
       " 49,\n",
       " 51,\n",
       " 53,\n",
       " 55,\n",
       " 57,\n",
       " 59,\n",
       " 61,\n",
       " 63,\n",
       " 65,\n",
       " 67,\n",
       " 69,\n",
       " 71,\n",
       " 73,\n",
       " 75,\n",
       " 77,\n",
       " 79,\n",
       " 81,\n",
       " 83,\n",
       " 85,\n",
       " 87,\n",
       " 89,\n",
       " 91,\n",
       " 93,\n",
       " 95,\n",
       " 97,\n",
       " 99]"
      ]
     },
     "execution_count": 28,
     "metadata": {},
     "output_type": "execute_result"
    }
   ],
   "source": [
    "# ANSWER-9)\n",
    "[i for i in range(1,100) if i % 2 != 0]"
   ]
  }
 ],
 "metadata": {
  "kernelspec": {
   "display_name": "Python 3 (ipykernel)",
   "language": "python",
   "name": "python3"
  },
  "language_info": {
   "codemirror_mode": {
    "name": "ipython",
    "version": 3
   },
   "file_extension": ".py",
   "mimetype": "text/x-python",
   "name": "python",
   "nbconvert_exporter": "python",
   "pygments_lexer": "ipython3",
   "version": "3.10.8"
  }
 },
 "nbformat": 4,
 "nbformat_minor": 5
}
